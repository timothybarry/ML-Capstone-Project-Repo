{
 "cells": [
  {
   "cell_type": "code",
   "execution_count": 77,
   "metadata": {},
   "outputs": [],
   "source": [
    "import pandas as pd\n",
    "import numpy as np\n",
    "\n",
    "\n"
   ]
  },
  {
   "cell_type": "code",
   "execution_count": 244,
   "metadata": {
    "scrolled": true
   },
   "outputs": [],
   "source": [
    "vac = pd.read_csv(\"2000-2015 CAKindergartenData.csv\")\n"
   ]
  },
  {
   "cell_type": "code",
   "execution_count": 245,
   "metadata": {},
   "outputs": [
    {
     "data": {
      "text/html": [
       "<div>\n",
       "<style scoped>\n",
       "    .dataframe tbody tr th:only-of-type {\n",
       "        vertical-align: middle;\n",
       "    }\n",
       "\n",
       "    .dataframe tbody tr th {\n",
       "        vertical-align: top;\n",
       "    }\n",
       "\n",
       "    .dataframe thead th {\n",
       "        text-align: right;\n",
       "    }\n",
       "</style>\n",
       "<table border=\"1\" class=\"dataframe\">\n",
       "  <thead>\n",
       "    <tr style=\"text-align: right;\">\n",
       "      <th></th>\n",
       "      <th>Year</th>\n",
       "      <th>COUNTY</th>\n",
       "      <th>ENROLLMENT</th>\n",
       "      <th>DTP#</th>\n",
       "    </tr>\n",
       "  </thead>\n",
       "  <tbody>\n",
       "    <tr>\n",
       "      <th>0</th>\n",
       "      <td>2000</td>\n",
       "      <td>ALAMEDA</td>\n",
       "      <td>80</td>\n",
       "      <td>80</td>\n",
       "    </tr>\n",
       "    <tr>\n",
       "      <th>1</th>\n",
       "      <td>2000</td>\n",
       "      <td>ALAMEDA</td>\n",
       "      <td>86</td>\n",
       "      <td>86</td>\n",
       "    </tr>\n",
       "    <tr>\n",
       "      <th>2</th>\n",
       "      <td>2000</td>\n",
       "      <td>ALAMEDA</td>\n",
       "      <td>100</td>\n",
       "      <td>98</td>\n",
       "    </tr>\n",
       "    <tr>\n",
       "      <th>3</th>\n",
       "      <td>2000</td>\n",
       "      <td>ALAMEDA</td>\n",
       "      <td>103</td>\n",
       "      <td>102</td>\n",
       "    </tr>\n",
       "    <tr>\n",
       "      <th>4</th>\n",
       "      <td>2000</td>\n",
       "      <td>ALAMEDA</td>\n",
       "      <td>152</td>\n",
       "      <td>149</td>\n",
       "    </tr>\n",
       "  </tbody>\n",
       "</table>\n",
       "</div>"
      ],
      "text/plain": [
       "   Year   COUNTY ENROLLMENT DTP#\n",
       "0  2000  ALAMEDA         80   80\n",
       "1  2000  ALAMEDA         86   86\n",
       "2  2000  ALAMEDA        100   98\n",
       "3  2000  ALAMEDA        103  102\n",
       "4  2000  ALAMEDA        152  149"
      ]
     },
     "execution_count": 245,
     "metadata": {},
     "output_type": "execute_result"
    }
   ],
   "source": [
    "# Create new dataframe with info needed to calculat Perusiss vaccination rate for each county by year\n",
    "\n",
    "dtp_df = vac[['Year', 'COUNTY', 'ENROLLMENT', 'DTP#']]\n",
    "# dtp_df['cnty_vac_rate'] = 0\n",
    "dtp_df.head()\n"
   ]
  },
  {
   "cell_type": "code",
   "execution_count": 246,
   "metadata": {},
   "outputs": [
    {
     "data": {
      "text/plain": [
       "1366"
      ]
     },
     "execution_count": 246,
     "metadata": {},
     "output_type": "execute_result"
    }
   ],
   "source": [
    "dtp_df[dtp_df[\"ENROLLMENT\"] == \" \"][\"ENROLLMENT\"].count()"
   ]
  },
  {
   "cell_type": "code",
   "execution_count": 247,
   "metadata": {},
   "outputs": [
    {
     "data": {
      "text/plain": [
       "(117801, 4)"
      ]
     },
     "execution_count": 247,
     "metadata": {},
     "output_type": "execute_result"
    }
   ],
   "source": [
    "dtp_df.shape"
   ]
  },
  {
   "cell_type": "code",
   "execution_count": 248,
   "metadata": {},
   "outputs": [
    {
     "data": {
      "text/plain": [
       "(116435, 4)"
      ]
     },
     "execution_count": 248,
     "metadata": {},
     "output_type": "execute_result"
    }
   ],
   "source": [
    "dtp_df = dtp_df[dtp_df[\"ENROLLMENT\"] != \" \"]\n",
    "dtp_df[dtp_df[\"ENROLLMENT\"] == \" \"][\"ENROLLMENT\"].count()\n",
    "\n",
    "dtp_df[\"ENROLLMENT\"] = pd.to_numeric(dtp_df[\"ENROLLMENT\"])\n",
    "dtp_df.shape"
   ]
  },
  {
   "cell_type": "code",
   "execution_count": 250,
   "metadata": {},
   "outputs": [],
   "source": [
    "dtp_df[dtp_df['DTP#'] == \" \"].count()\n",
    "dtp_df['DTP#'] = pd.to_numeric(dtp_df['DTP#'])\n",
    "# dtp_df.dtypes"
   ]
  },
  {
   "cell_type": "code",
   "execution_count": 230,
   "metadata": {},
   "outputs": [
    {
     "data": {
      "text/plain": [
       "ENROLLMENT         int64\n",
       "DTP#             float64\n",
       "cnty_vac_rate      int64\n",
       "dtype: object"
      ]
     },
     "execution_count": 230,
     "metadata": {},
     "output_type": "execute_result"
    }
   ],
   "source": [
    "# sum up enrollement and vaccination numbers by year and county\n",
    "\n",
    "dtp_summed_df = dtp_df.groupby(['Year','COUNTY']).sum()\n",
    "dtp_summed_df['cnty_vac_rate'] = 0\n",
    "dtp_summed_df.head(10)\n",
    "\n",
    "dtp_summed_df.dtypes"
   ]
  },
  {
   "cell_type": "code",
   "execution_count": 240,
   "metadata": {
    "scrolled": true
   },
   "outputs": [
    {
     "data": {
      "text/plain": [
       "(926, 3)"
      ]
     },
     "execution_count": 240,
     "metadata": {},
     "output_type": "execute_result"
    }
   ],
   "source": [
    "# dtp_summed_df = dtp_summed_df.dropna()\n",
    "# dtp_summed_df['DTP#'].isna().sum()\n",
    "\n",
    "\n",
    "\n",
    "dtp_summed_df['cnty_vac_rate'] = dtp_summed_df['DTP#']/dtp_summed_df['ENROLLMENT'] * 100\n",
    "# dtp_summed_df['ENROLLMENT'] = dtp_summed_df[\"ENROLLMENT\"].astype(int)\n",
    "# dtp_summed_df['ENROLLMENT'].isnull().sum()\n",
    "# dtp_summed_df[dtp_summed_df['DTP#'] == '']['DTP#'].sum()\n",
    "# df.dropna(subset=['Tenant'], inplace=True)\n",
    "\n",
    "\n",
    "# dtp_summed_df.head()\n",
    "\n",
    "# for year, new_df in dtp_summed_df.groupby(level=1):\n",
    "#     for county in new_df.groupby(level=0):\n",
    "#         for row in county:\n",
    "#             print(row)\n",
    "#             print(\"\")\n",
    "\n",
    "dtp_summed_df.head(10)\n",
    "dtp_summed_df.shap"
   ]
  },
  {
   "cell_type": "code",
   "execution_count": null,
   "metadata": {},
   "outputs": [],
   "source": [
    "pop_df = pd.read_csv()"
   ]
  }
 ],
 "metadata": {
  "kernelspec": {
   "display_name": "Python 3",
   "language": "python",
   "name": "python3"
  },
  "language_info": {
   "codemirror_mode": {
    "name": "ipython",
    "version": 3
   },
   "file_extension": ".py",
   "mimetype": "text/x-python",
   "name": "python",
   "nbconvert_exporter": "python",
   "pygments_lexer": "ipython3",
   "version": "3.7.3"
  }
 },
 "nbformat": 4,
 "nbformat_minor": 2
}
